{
 "cells": [
  {
   "cell_type": "code",
   "execution_count": 1,
   "metadata": {},
   "outputs": [],
   "source": [
    "import numpy as np\n",
    "import matplotlib.pyplot as plt\n",
    "from scipy.special import jv\n",
    "from scipy.special import erf\n",
    "from scipy.stats import gaussian_kde\n",
    "import math\n",
    "import random"
   ]
  },
  {
   "cell_type": "markdown",
   "metadata": {},
   "source": [
    "## General methods"
   ]
  },
  {
   "cell_type": "markdown",
   "metadata": {},
   "source": [
    "### Folded Gaussian"
   ]
  },
  {
   "cell_type": "code",
   "execution_count": 18,
   "metadata": {},
   "outputs": [],
   "source": [
    "# Evaluates a folded Gaussian centered at 0 with variance sigma at the point theta\n",
    "def eval_folded(sigma, theta, cutoff=10000):\n",
    "    total = 0\n",
    "    for n in range(-cutoff, cutoff):\n",
    "        total += math.exp(-((theta - 2 * np.pi * n)**2) / (2 * sigma * sigma))\n",
    "    return 1/(math.sqrt(2 * np.pi) * sigma) * total"
   ]
  },
  {
   "cell_type": "code",
   "execution_count": 19,
   "metadata": {},
   "outputs": [],
   "source": [
    "# Evaluates a folded Gaussian centered at 0 with variance sigma at the points in the theta_arr\n",
    "def eval_folded_grid(sigma, theta_arr, cutoff=10000):\n",
    "    total = np.zeros(len(theta_arr))\n",
    "    for n in range(-cutoff, cutoff):\n",
    "        total += np.exp(-((theta_arr - 2 * np.pi * n)**2) / (2 * sigma * sigma))\n",
    "    return 1/(math.sqrt(2 * np.pi) * sigma) * total"
   ]
  },
  {
   "cell_type": "markdown",
   "metadata": {},
   "source": [
    "### Determinant Calculation"
   ]
  },
  {
   "cell_type": "code",
   "execution_count": 21,
   "metadata": {},
   "outputs": [],
   "source": [
    "# Debug this later\n",
    "def get_J(points):\n",
    "    points += [points[0]]\n",
    "    area = 0\n",
    "    for ii in range(len(points) - 1):\n",
    "        area += (points[ii][0] * points[ii + 1][1] - points[ii][1] * points[ii + 1][0])\n",
    "    area = area/2\n",
    "    J = area * 2 # Jacobian is twice the area of the polygon\n",
    "    return J"
   ]
  },
  {
   "cell_type": "code",
   "execution_count": 128,
   "metadata": {},
   "outputs": [
    {
     "name": "stdout",
     "output_type": "stream",
     "text": [
      "0.8660254037844386\n",
      "0.8660254037844386\n"
     ]
    }
   ],
   "source": [
    "J_ans_3 = math.sqrt(3)/2\n",
    "points0 = np.array([0, 0])\n",
    "points1 = np.array([-0.5, math.sqrt(3)/2])\n",
    "points2 = np.array([-1, 0])\n",
    "J_3 = get_J([points0, points1, points2])\n",
    "print(J_ans_3)\n",
    "print(J_3)"
   ]
  },
  {
   "cell_type": "code",
   "execution_count": 160,
   "metadata": {
    "scrolled": true
   },
   "outputs": [
    {
     "name": "stdout",
     "output_type": "stream",
     "text": [
      "1.000000, 1.000000\n",
      "0.987688, 0.987688\n",
      "0.951057, 0.951057\n",
      "0.891007, 0.891007\n",
      "0.809017, 0.809017\n",
      "0.707107, 0.707107\n",
      "0.587785, 0.587785\n",
      "0.453990, 0.453990\n",
      "0.309017, 0.309017\n",
      "0.156434, 0.156434\n",
      "0.000000, 0.000000\n",
      "0.156434, 0.156434\n",
      "0.309017, 0.309017\n",
      "0.453990, 0.453990\n",
      "0.587785, 0.587785\n",
      "0.707107, 0.707107\n",
      "0.809017, 0.809017\n",
      "0.891007, 0.891007\n",
      "0.951057, 0.951057\n",
      "0.987688, 0.987688\n",
      "1.000000, 1.000000\n",
      "0.987688, 0.987688\n",
      "0.951057, 0.951057\n",
      "0.891007, 0.891007\n",
      "0.809017, 0.809017\n",
      "0.707107, 0.707107\n",
      "0.587785, 0.587785\n",
      "0.453990, 0.453990\n",
      "0.309017, 0.309017\n",
      "0.156434, 0.156434\n",
      "0.000000, 0.000000\n",
      "0.156434, 0.156434\n",
      "0.309017, 0.309017\n",
      "0.453990, 0.453990\n",
      "0.587785, 0.587785\n",
      "0.707107, 0.707107\n",
      "0.809017, 0.809017\n",
      "0.891007, 0.891007\n",
      "0.951057, 0.951057\n",
      "0.987688, 0.987688\n"
     ]
    }
   ],
   "source": [
    "# Checking Jacobian calculation for four links\n",
    "# Also checking vectorization for determinant calculation\n",
    "\n",
    "theta = np.arange(-np.pi, np.pi, np.pi/20)\n",
    "theta_0 = np.ones(len(theta)) * np.pi/2\n",
    "\n",
    "points1 = np.array([np.cos(theta_0 + theta), np.sin(theta_0 + theta)])\n",
    "points2 = points1 + np.array([-1 * np.ones(len(theta)), np.zeros(len(theta))])\n",
    "points3 = points2 + np.array([-np.cos(theta_0 + theta), -np.sin(theta_0 + theta)])\n",
    "points = [points1, points2, points3]\n",
    "J = np.abs(get_J(points))\n",
    "J_ans = np.abs(np.cos(theta))\n",
    "\n",
    "for ii in range(len(theta)):\n",
    "    print(\"%f, %f\" % (J[ii], J_ans[ii]))"
   ]
  },
  {
   "cell_type": "markdown",
   "metadata": {},
   "source": [
    "### Geometrical calculations"
   ]
  },
  {
   "cell_type": "code",
   "execution_count": 273,
   "metadata": {},
   "outputs": [],
   "source": [
    "# Find closure solutions\n",
    "# Crazy formula for the completion of an isosceles triangle between (a, b), and (-L, 0)\n",
    "# Formula from Wolfram Alpha, obtained by solving (x + L)^2 + y^2 = L^2 and (x - a)^2 + (y - b)^2 = L^2\n",
    "# Note that there are typically two or zero answers here (depending on if (a, b) is close enough to (-L, 0))\n",
    "# This is vectorized; a and b can be np.array's\n",
    "\n",
    "def get_triangles(a, b, L):\n",
    "    sum1 = a**4 + 4 * (a**3) * L + 2 * (a**2) * (b**2) + 2 * (a**2) * (L**2) + 4 * a * (b**2) * L \\\n",
    "        - 4 * a * (L**3) + b**4 - 2 * (b**2) * (L**2) - 3 * (L**4)\n",
    "    sum1 = np.sqrt(-(b**2 * sum1))\n",
    "    x1 = (a**3 + (a**2) * L - sum1 + a * (b**2) - a * (L**2) - (b**2) * L - L**3)/(2*((a+L)**2 + b**2))\n",
    "    x2 = (a**3 + (a**2) * L + sum1 + a * (b**2) - a * (L**2) - (b**2) * L - L**3)/(2*((a+L)**2 + b**2))\n",
    "    y1 = ((a * b)**2 + (a + L) * sum1 + 2 * a * (b**2) * L + b**4 + (b**2) * (L**2))/(2 * b * ((a+L)**2 + b**2))\n",
    "    y2 = ((a * b)**2 - (a + L) * sum1 + 2 * a * (b**2) * L + b**4 + (b**2) * (L**2))/(2 * b * ((a+L)**2 + b**2))\n",
    "    no_triangle_idxs = (a + L)**2 + b**2 > (2*L)**2\n",
    "    x1[no_triangle_idxs] = np.nan # Cases where isosceles triangle cannot form\n",
    "    x2[no_triangle_idxs] = np.nan\n",
    "    y1[no_triangle_idxs] = np.nan\n",
    "    y2[no_triangle_idxs] = np.nan\n",
    "    return [(x1, y1), (x2, y2)]"
   ]
  },
  {
   "cell_type": "code",
   "execution_count": 229,
   "metadata": {},
   "outputs": [],
   "source": [
    "# points can be (x_np_array, y_np_array) for vectorization \n",
    "# Gets angle between point1, point2, and point3. \n",
    "# Note, to get the angle of turning from the vector point1-point2 to the vector point2-point3, \n",
    "# you may have to do np.pi minus this value.\n",
    "def get_angle(point1, point2, point3):\n",
    "    vec1_x = point2[0] - point1[0]\n",
    "    vec1_y = point2[1] - point1[1]\n",
    "    vec2_x = point2[0] - point3[0]\n",
    "    vec2_y = point2[1] - point3[1]\n",
    "\n",
    "    vec1_norm = np.sqrt(vec1_x**2 + vec1_y**2)\n",
    "    vec2_norm = np.sqrt(vec2_x**2 + vec2_y**2)\n",
    "    vec_dot = vec1_x * vec2_x + vec1_y * vec2_y\n",
    "    cos_val = np.clip(vec_dot/(vec1_norm * vec2_norm), -1, 1)\n",
    "    return np.arccos(cos_val)"
   ]
  },
  {
   "cell_type": "code",
   "execution_count": 198,
   "metadata": {},
   "outputs": [
    {
     "name": "stdout",
     "output_type": "stream",
     "text": [
      "[(-1.0, 1.0), (0.0, 0.0)]\n",
      "[(-1.1997967135296554, 0.9798373708237244), (-0.0002032864703445076, 0.02016262917627557)]\n",
      "1.5707963267948966\n",
      "[1.57079633 1.57079633]\n"
     ]
    }
   ],
   "source": [
    "# Check geometry formulas\n",
    "print(get_triangles(0, 1, 1))\n",
    "print(get_triangles(-0.2, 1, 1))\n",
    "print(get_angle((0, 1), (-1, 1), (-1, 0)))\n",
    "print(get_angle((np.array([0, 0]), np.array([1, 1])), \\\n",
    "               (np.array([-1, -1]), np.array([1, 1])), \\\n",
    "              (np.array([-1, -1]), np.array([0, 0]))))"
   ]
  },
  {
   "cell_type": "markdown",
   "metadata": {},
   "source": [
    "### Plotting methods"
   ]
  },
  {
   "cell_type": "code",
   "execution_count": 98,
   "metadata": {},
   "outputs": [],
   "source": [
    "style_dict = {\n",
    "    'analytical': 'r',\n",
    "    'infsig': 'k', \n",
    "    'gaussian': 'co', \n",
    "    'Last Link 1': 'gs', \n",
    "    'Last Link 2': 'ys', \n",
    "    'RNAMake': 'bo', \n",
    "    'mining minima': 'cs', \n",
    "    'grid1': 'go', \n",
    "    'grid2': 'mo', \n",
    "    'grid1 kde': 'brown',\n",
    "    'grid2 kde': 'm--', \n",
    "    'SE(2) order 10': 'ko', \n",
    "    'naive': 'bo'\n",
    "}\n",
    "\n",
    "def plot_ceffs(sigma_min, sigma_max, num_pts, ceff_vals_lists, label_lists, fig_size=(8,5)):\n",
    "    sigma_range = np.logspace(sigma_min, sigma_max, num_pts)\n",
    "    plt.figure(figsize=fig_size)\n",
    "    for ii, ceff_list in enumerate(ceff_vals_lists):\n",
    "        cur_label = label_lists[ii]\n",
    "        if cur_label not in style_dict: \n",
    "            print(\"Please add style entry for the plot label: %s\" % cur_label)\n",
    "            continue\n",
    "        plt.plot(sigma_range, ceff_list, style_dict[cur_label], markersize=5, label=cur_label)\n",
    "    plt.legend(loc='upper right')\n",
    "    plt.xscale('log')\n",
    "    plt.yscale('log')\n",
    "    plt.show()"
   ]
  },
  {
   "cell_type": "code",
   "execution_count": 58,
   "metadata": {},
   "outputs": [],
   "source": [
    "def eval_ceff(sigma, theta_0, n_links, method_name):\n",
    "    if method_name == 'analytical':\n",
    "        return analytical_ceff(sigma, n_links)\n",
    "    if method_name == 'infsig':\n",
    "        return analytical_inf_sigma(n_links)\n",
    "    if method_name == 'gaussian':\n",
    "        return gaussian_ceff(sigma, theta_0, n_links)\n",
    "    if method_name == 'Last Link 1':\n",
    "        return last_link_1(sigma, theta_0, n_links)\n",
    "    if method_name == 'Last Link 2' and n_links >= 4:\n",
    "        return last_link_2(sigma, theta_0, n_links)\n",
    "    if method_name == 'RNAMake' or method_name == 'naive':\n",
    "        return numerical_ceff(sigma, theta_0, n_links)\n",
    "    if method_name == 'mining minima':\n",
    "        return mining_minima(sigma, n_links)\n",
    "    if method_name == 'grid1':\n",
    "        return grid_ceff(sigma, theta_0, n_links - 1, 1)\n",
    "    if method_name == 'grid2' and n_links >= 4:\n",
    "        return grid_ceff(sigma, theta_0, n_links - 2, 2)\n",
    "    if method_name == 'grid1 kde':\n",
    "        return grid_ceff_kde(sigma, theta_0, n_links - 1, 1)\n",
    "    if method_name == 'grid2 kde' and n_links >= 4:\n",
    "        return grid_ceff_kde(sigma, theta_0, n_links - 2, 2)\n",
    "    if method_name == 'SE(2) order 10':\n",
    "        return se2_ceff(sigma, theta_0, n_links)\n",
    "    print(\"Failed to evaluate method with these configurations\")\n",
    "    return []"
   ]
  },
  {
   "cell_type": "code",
   "execution_count": 36,
   "metadata": {},
   "outputs": [],
   "source": [
    "def eval_ceff_range(sigma_min, sigma_max, num_pts, theta_0, n_links, method_name):\n",
    "    sigma_range = np.logspace(sigma_min, sigma_max, num_pts)\n",
    "   \n",
    "    ceff_vals = []\n",
    "    for sigma in sigma_range:\n",
    "        print(sigma)\n",
    "        ceff_vals += [eval_ceff(sigma, theta_0, n_links, method_name)]\n",
    "    return ceff_vals"
   ]
  },
  {
   "cell_type": "code",
   "execution_count": 37,
   "metadata": {},
   "outputs": [],
   "source": [
    "## PLOTTING PARAMETERS\n",
    "SIGMA_MIN=-3\n",
    "SIGMA_MAX=2\n",
    "NUM_PTS=10"
   ]
  },
  {
   "cell_type": "markdown",
   "metadata": {},
   "source": [
    "## Ceff calculations"
   ]
  },
  {
   "cell_type": "markdown",
   "metadata": {},
   "source": [
    "### Naive approach*"
   ]
  },
  {
   "cell_type": "code",
   "execution_count": 5,
   "metadata": {},
   "outputs": [],
   "source": [
    "def numerical_ceff(sigma, theta_0, n_links, niter=1000000, L=1, \\\n",
    "    theta_thresh=0.01, x_thresh=0.01, y_thresh=0.01):\n",
    "    theta_totals = np.zeros(niter)\n",
    "    x_totals = np.zeros(niter)\n",
    "    y_totals = np.zeros(niter)\n",
    "    for ii in range(n_links):\n",
    "        theta_vals = np.random.normal(loc=theta_0, scale=sigma, size=niter)\n",
    "        theta_totals += theta_vals\n",
    "        theta_totals %= 2 * np.pi\n",
    "        x_totals += L * np.cos(theta_totals)\n",
    "        y_totals += L * np.sin(theta_totals)\n",
    "    \n",
    "    x_pass = np.abs(x_totals) < x_thresh\n",
    "    y_pass = np.abs(y_totals) < y_thresh\n",
    "    theta_pass = np.abs(theta_totals) < theta_thresh\n",
    "    prob = sum(x_pass * y_pass * theta_pass)/niter\n",
    "    ceff = 2 * np.pi * prob/(np.pi * theta_thresh * x_thresh * y_thresh)\n",
    "    return ceff"
   ]
  },
  {
   "cell_type": "code",
   "execution_count": 45,
   "metadata": {},
   "outputs": [
    {
     "name": "stdout",
     "output_type": "stream",
     "text": [
      "0.001\n",
      "0.003593813663804626\n",
      "0.01291549665014884\n",
      "0.046415888336127795\n",
      "0.1668100537200059\n",
      "0.5994842503189409\n",
      "2.1544346900318843\n",
      "7.742636826811277\n",
      "27.825594022071257\n",
      "100.0\n"
     ]
    },
    {
     "data": {
      "image/png": "[encoded data removed]",
      "text/plain": [
       "<Figure size 432x288 with 1 Axes>"
      ]
     },
     "metadata": {
      "needs_background": "light"
     },
     "output_type": "display_data"
    }
   ],
   "source": [
    "numerical_ceff_vals_3 = eval_ceff_range(SIGMA_MIN, SIGMA_MAX, NUM_PTS, 2 * np.pi/3, 3, 'naive')\n",
    "plot_ceffs(SIGMA_MIN, SIGMA_MAX, NUM_PTS, [numerical_ceff_vals_3], ['naive'])"
   ]
  },
  {
   "cell_type": "code",
   "execution_count": 66,
   "metadata": {},
   "outputs": [
    {
     "name": "stdout",
     "output_type": "stream",
     "text": [
      "0.001\n",
      "0.003593813663804626\n",
      "0.01291549665014884\n",
      "0.046415888336127795\n",
      "0.1668100537200059\n",
      "0.5994842503189409\n",
      "2.1544346900318843\n",
      "7.742636826811277\n",
      "27.825594022071257\n",
      "100.0\n"
     ]
    },
    {
     "data": {
      "image/png": "[encoded data removed]",
      "text/plain": [
       "<Figure size 432x288 with 1 Axes>"
      ]
     },
     "metadata": {
      "needs_background": "light"
     },
     "output_type": "display_data"
    }
   ],
   "source": [
    "numerical_ceff_vals_4 = eval_ceff_range(SIGMA_MIN, SIGMA_MAX, NUM_PTS, np.pi/2, 4, 'naive')\n",
    "plot_ceffs(SIGMA_MIN, SIGMA_MAX, NUM_PTS, [numerical_ceff_vals_4], ['naive'])"
   ]
  },
  {
   "cell_type": "code",
   "execution_count": 100,
   "metadata": {},
   "outputs": [
    {
     "name": "stdout",
     "output_type": "stream",
     "text": [
      "0.001\n",
      "0.003593813663804626\n",
      "0.01291549665014884\n",
      "0.046415888336127795\n",
      "0.1668100537200059\n",
      "0.5994842503189409\n",
      "2.1544346900318843\n",
      "7.742636826811277\n",
      "27.825594022071257\n",
      "100.0\n"
     ]
    },
    {
     "data": {
      "image/png": "[encoded data removed]",
      "text/plain": [
       "<Figure size 576x360 with 1 Axes>"
      ]
     },
     "metadata": {
      "needs_background": "light"
     },
     "output_type": "display_data"
    }
   ],
   "source": [
    "numerical_ceff_vals_7 = eval_ceff_range(SIGMA_MIN, SIGMA_MAX, NUM_PTS, 2 * np.pi/7, 7, 'naive')\n",
    "plot_ceffs(SIGMA_MIN, SIGMA_MAX, NUM_PTS, [numerical_ceff_vals_7], ['naive'])"
   ]
  },
  {
   "cell_type": "markdown",
   "metadata": {},
   "source": [
    "### Infinite sigma"
   ]
  },
  {
   "cell_type": "code",
   "execution_count": 126,
   "metadata": {},
   "outputs": [],
   "source": [
    "def analytical_inf_sigma(n_links, k_min=0, k_max=100000, nbins=1000000, L=1):\n",
    "    del_k = (k_max - k_min)/nbins\n",
    "    k_vals = np.arange(k_min, k_max, del_k)\n",
    "    ceff = 0\n",
    "    for k in k_vals:\n",
    "        ceff += k * (jv(0, k * L)**n_links) * del_k\n",
    "    return ceff / (2 * np.pi) # Divide by 2 pi because this probability currently sums over all values of theta"
   ]
  },
  {
   "cell_type": "code",
   "execution_count": 46,
   "metadata": {},
   "outputs": [
    {
     "name": "stdout",
     "output_type": "stream",
     "text": [
      "0.001\n",
      "0.003593813663804626\n",
      "0.01291549665014884\n",
      "0.046415888336127795\n",
      "0.1668100537200059\n",
      "0.5994842503189409\n",
      "2.1544346900318843\n",
      "7.742636826811277\n",
      "27.825594022071257\n",
      "100.0\n"
     ]
    },
    {
     "data": {
      "image/png": "[encoded data removed]",
      "text/plain": [
       "<Figure size 432x288 with 1 Axes>"
      ]
     },
     "metadata": {
      "needs_background": "light"
     },
     "output_type": "display_data"
    }
   ],
   "source": [
    "analytical_inf_vals_3 = eval_ceff_range(SIGMA_MIN, SIGMA_MAX, NUM_PTS, 2 * np.pi/3, 3, 'infsig')\n",
    "plot_ceffs(SIGMA_MIN, SIGMA_MAX, NUM_PTS, [analytical_inf_vals_3], ['infsig'])"
   ]
  },
  {
   "cell_type": "code",
   "execution_count": 64,
   "metadata": {},
   "outputs": [
    {
     "name": "stdout",
     "output_type": "stream",
     "text": [
      "0.001\n",
      "0.003593813663804626\n",
      "0.01291549665014884\n",
      "0.046415888336127795\n",
      "0.1668100537200059\n",
      "0.5994842503189409\n",
      "2.1544346900318843\n",
      "7.742636826811277\n",
      "27.825594022071257\n",
      "100.0\n"
     ]
    },
    {
     "data": {
      "image/png": "[encoded data removed]",
      "text/plain": [
       "<Figure size 432x288 with 1 Axes>"
      ]
     },
     "metadata": {
      "needs_background": "light"
     },
     "output_type": "display_data"
    }
   ],
   "source": [
    "analytical_inf_vals_4 = eval_ceff_range(SIGMA_MIN, SIGMA_MAX, NUM_PTS, np.pi/2, 4, 'infsig')\n",
    "plot_ceffs(SIGMA_MIN, SIGMA_MAX, NUM_PTS, [analytical_inf_vals_4], ['infsig'])"
   ]
  },
  {
   "cell_type": "code",
   "execution_count": 110,
   "metadata": {},
   "outputs": [
    {
     "name": "stdout",
     "output_type": "stream",
     "text": [
      "0.001\n",
      "0.003593813663804626\n",
      "0.01291549665014884\n",
      "0.046415888336127795\n",
      "0.1668100537200059\n",
      "0.5994842503189409\n",
      "2.1544346900318843\n",
      "7.742636826811277\n",
      "27.825594022071257\n",
      "100.0\n"
     ]
    },
    {
     "data": {
      "image/png": "[encoded data removed]",
      "text/plain": [
       "<Figure size 576x360 with 1 Axes>"
      ]
     },
     "metadata": {
      "needs_background": "light"
     },
     "output_type": "display_data"
    }
   ],
   "source": [
    "analytical_inf_vals_7 = eval_ceff_range(SIGMA_MIN, SIGMA_MAX, NUM_PTS, 2 * np.pi/7, 7, 'infsig')\n",
    "plot_ceffs(SIGMA_MIN, SIGMA_MAX, NUM_PTS, [analytical_inf_vals_7], ['infsig'])"
   ]
  },
  {
   "cell_type": "markdown",
   "metadata": {},
   "source": [
    "### Semi-analytical"
   ]
  },
  {
   "cell_type": "code",
   "execution_count": 47,
   "metadata": {},
   "outputs": [],
   "source": [
    "def analytical_ceff_3(sigma):\n",
    "    J = math.sqrt(3)/2\n",
    "    ceff = 2 * np.pi * (eval_folded(sigma, 0)**3 + eval_folded(sigma, 2*np.pi/3)**3)/J\n",
    "    return ceff"
   ]
  },
  {
   "cell_type": "code",
   "execution_count": 23,
   "metadata": {},
   "outputs": [],
   "source": [
    "def old_analytical_ceff_4(sigma):\n",
    "    theta_vals = np.arange(-np.pi, np.pi, np.pi/100)\n",
    "    ceff = 0\n",
    "    for theta in theta_vals:\n",
    "        points0 = np.array([0, 0])\n",
    "        points1 = np.array([math.cos(theta), math.sin(theta)])\n",
    "        points2 = points1 + np.array([-1, 0])\n",
    "        points3 = points2 + np.array([-math.cos(theta), -math.sin(theta)])\n",
    "        points = [points0, points1, points2, points3]\n",
    "        J = abs(get_J(points))\n",
    "        ceff += (eval_folded(sigma, theta)**4) * 2 * np.pi/abs(np.cos(theta)) * np.pi/100 #J\n",
    "    return ceff"
   ]
  },
  {
   "cell_type": "code",
   "execution_count": 48,
   "metadata": {},
   "outputs": [],
   "source": [
    "def analytical_ceff_4(sigma):\n",
    "    theta_vals = np.linspace(-np.pi, np.pi, 10000, endpoint=True)\n",
    "    delta_theta = theta_vals[1] - theta_vals[0]\n",
    "    folded_gauss_vals = eval_folded_grid(sigma, theta_vals)\n",
    "    ceff = np.sum(folded_gauss_vals**4 * 2 * np.pi/np.abs(np.cos(theta_vals)) * delta_theta)\n",
    "    return ceff"
   ]
  },
  {
   "cell_type": "code",
   "execution_count": 49,
   "metadata": {},
   "outputs": [],
   "source": [
    "# This method does not scale to arbitrary n links\n",
    "def analytical_ceff(sigma, n_links):\n",
    "    if (n_links == 3):\n",
    "        return analytical_ceff_3(sigma)\n",
    "    if (n_links == 4):\n",
    "        return analytical_ceff_4(sigma)\n",
    "    else:\n",
    "        print(\"Cannot compute analytical Ceff for nlinks not 3 or 4\")\n",
    "        return -1"
   ]
  },
  {
   "cell_type": "code",
   "execution_count": 51,
   "metadata": {},
   "outputs": [
    {
     "name": "stdout",
     "output_type": "stream",
     "text": [
      "0.001\n",
      "0.003593813663804626\n",
      "0.01291549665014884\n",
      "0.046415888336127795\n",
      "0.1668100537200059\n",
      "0.5994842503189409\n",
      "2.1544346900318843\n",
      "7.742636826811277\n",
      "27.825594022071257\n",
      "100.0\n"
     ]
    },
    {
     "data": {
      "image/png": "[encoded data removed]",
      "text/plain": [
       "<Figure size 432x288 with 1 Axes>"
      ]
     },
     "metadata": {
      "needs_background": "light"
     },
     "output_type": "display_data"
    }
   ],
   "source": [
    "analytical_vals_3 = eval_ceff_range(SIGMA_MIN, SIGMA_MAX, NUM_PTS, 2 * np.pi/3, 3, 'analytical')\n",
    "plot_ceffs(SIGMA_MIN, SIGMA_MAX, NUM_PTS, [analytical_vals_3], ['analytical'])"
   ]
  },
  {
   "cell_type": "code",
   "execution_count": 63,
   "metadata": {},
   "outputs": [
    {
     "name": "stdout",
     "output_type": "stream",
     "text": [
      "0.001\n",
      "0.003593813663804626\n",
      "0.01291549665014884\n",
      "0.046415888336127795\n",
      "0.1668100537200059\n",
      "0.5994842503189409\n",
      "2.1544346900318843\n",
      "7.742636826811277\n",
      "27.825594022071257\n",
      "100.0\n"
     ]
    },
    {
     "data": {
      "image/png": "[encoded data removed]",
      "text/plain": [
       "<Figure size 432x288 with 1 Axes>"
      ]
     },
     "metadata": {
      "needs_background": "light"
     },
     "output_type": "display_data"
    }
   ],
   "source": [
    "analytical_vals_4 = eval_ceff_range(SIGMA_MIN, SIGMA_MAX, NUM_PTS, np.pi/2, 4, 'analytical')\n",
    "plot_ceffs(SIGMA_MIN, SIGMA_MAX, NUM_PTS, [analytical_vals_4], ['analytical'])"
   ]
  },
  {
   "cell_type": "markdown",
   "metadata": {},
   "source": [
    "### Harmonic transform*"
   ]
  },
  {
   "cell_type": "code",
   "execution_count": 2,
   "metadata": {},
   "outputs": [],
   "source": [
    "def compute_rhohat_mn(m, n, p, L, theta_0, sigma):\n",
    "    return 1j**(n-m) * jv( m-n, p*L ) * np.exp(1j*n*theta_0 - (n*sigma)**2)\n",
    "\n",
    "def compute_rhohat_matrix(p, L, theta_0, sigma, cutoff=10):\n",
    "    rhohat_matrix = np.zeros([2*cutoff+1, 2*cutoff+1], dtype=complex)\n",
    "    for i in range(rhohat_matrix.shape[0]):\n",
    "        m = i - cutoff\n",
    "        for j in range(rhohat_matrix.shape[1]):\n",
    "            n = j - cutoff\n",
    "            rhohat_matrix[i][j] = compute_rhohat_mn(m, n, p, L, theta_0, sigma)\n",
    "            \n",
    "    return rhohat_matrix"
   ]
  },
  {
   "cell_type": "code",
   "execution_count": 3,
   "metadata": {},
   "outputs": [],
   "source": [
    "# populate an (m, n, p) matrix with all values of (m, n) rhohat matrices for various p's\n",
    "def get_rhohat_ps(theta_0, sigma, L, cutoff, n_links, p_range):\n",
    "    rhohat_all = np.zeros((p_range.shape[0], 2*cutoff+1, 2*cutoff+1), dtype=complex)\n",
    "    for i_p, p in enumerate(p_range):\n",
    "        rhohat = compute_rhohat_matrix(p, L, theta_0, sigma, cutoff)\n",
    "        final_entry = np.identity(2*cutoff+1)\n",
    "        for nl in range(n_links):\n",
    "            final_entry = final_entry @ rhohat\n",
    "        rhohat_all[i_p] = final_entry\n",
    "    return rhohat_all"
   ]
  },
  {
   "cell_type": "code",
   "execution_count": 4,
   "metadata": {},
   "outputs": [],
   "source": [
    "def se2_ceff(sigma, theta_0, n_links, L=1, cutoff=10, p_max=300, del_p=0.2):\n",
    "    P   = np.arange(0, p_max, del_p)    \n",
    "    m_n_range = 2*cutoff+1\n",
    "    n_vals = np.arange(-cutoff, -cutoff+m_n_range)\n",
    "    \n",
    "    rhohat_all = get_rhohat_ps(theta_0, sigma, L, cutoff, n_links, P)\n",
    "    \n",
    "    prob_value = 0\n",
    "    for m_idx in n_vals:\n",
    "        prob_value += np.sum( rhohat_all[:, m_idx, m_idx] * P * del_p * jv(0, 0)/(4 * np.pi * np.pi) )\n",
    "    return 2 * np.pi * np.real(prob_value)"
   ]
  },
  {
   "cell_type": "code",
   "execution_count": 54,
   "metadata": {},
   "outputs": [
    {
     "name": "stdout",
     "output_type": "stream",
     "text": [
      "0.001\n",
      "0.003593813663804626\n",
      "0.01291549665014884\n",
      "0.046415888336127795\n",
      "0.1668100537200059\n",
      "0.5994842503189409\n",
      "2.1544346900318843\n",
      "7.742636826811277\n",
      "27.825594022071257\n",
      "100.0\n"
     ]
    },
    {
     "data": {
      "image/png": "[encoded data removed]",
      "text/plain": [
       "<Figure size 432x288 with 1 Axes>"
      ]
     },
     "metadata": {
      "needs_background": "light"
     },
     "output_type": "display_data"
    }
   ],
   "source": [
    "se2_ceff_vals_3 = eval_ceff_range(SIGMA_MIN, SIGMA_MAX, NUM_PTS, 2 * np.pi/3, 3, 'SE(2) order 10')\n",
    "plot_ceffs(SIGMA_MIN, SIGMA_MAX, NUM_PTS, [se2_ceff_vals_3], ['SE(2) order 10'])"
   ]
  },
  {
   "cell_type": "code",
   "execution_count": 62,
   "metadata": {},
   "outputs": [
    {
     "name": "stdout",
     "output_type": "stream",
     "text": [
      "0.001\n",
      "0.003593813663804626\n",
      "0.01291549665014884\n",
      "0.046415888336127795\n",
      "0.1668100537200059\n",
      "0.5994842503189409\n",
      "2.1544346900318843\n",
      "7.742636826811277\n",
      "27.825594022071257\n",
      "100.0\n"
     ]
    },
    {
     "data": {
      "image/png": "[encoded data removed]",
      "text/plain": [
       "<Figure size 432x288 with 1 Axes>"
      ]
     },
     "metadata": {
      "needs_background": "light"
     },
     "output_type": "display_data"
    }
   ],
   "source": [
    "se2_ceff_vals_4 = eval_ceff_range(SIGMA_MIN, SIGMA_MAX, NUM_PTS, np.pi/2, 4, 'SE(2) order 10')\n",
    "plot_ceffs(SIGMA_MIN, SIGMA_MAX, NUM_PTS, [se2_ceff_vals_4], ['SE(2) order 10'])"
   ]
  },
  {
   "cell_type": "code",
   "execution_count": 116,
   "metadata": {},
   "outputs": [
    {
     "name": "stdout",
     "output_type": "stream",
     "text": [
      "0.001\n",
      "0.003593813663804626\n",
      "0.01291549665014884\n",
      "0.046415888336127795\n",
      "0.1668100537200059\n",
      "0.5994842503189409\n",
      "2.1544346900318843\n",
      "7.742636826811277\n",
      "27.825594022071257\n",
      "100.0\n"
     ]
    },
    {
     "data": {
      "image/png": "[encoded data removed]",
      "text/plain": [
       "<Figure size 576x360 with 1 Axes>"
      ]
     },
     "metadata": {
      "needs_background": "light"
     },
     "output_type": "display_data"
    }
   ],
   "source": [
    "se2_ceff_vals_7 = eval_ceff_range(SIGMA_MIN, SIGMA_MAX, NUM_PTS, 2 * np.pi/7, 7, 'SE(2) order 10')\n",
    "plot_ceffs(SIGMA_MIN, SIGMA_MAX, NUM_PTS, [se2_ceff_vals_7], ['SE(2) order 10'])"
   ]
  },
  {
   "cell_type": "markdown",
   "metadata": {},
   "source": [
    "### Mining minima*"
   ]
  },
  {
   "cell_type": "code",
   "execution_count": 278,
   "metadata": {},
   "outputs": [],
   "source": [
    "def mining_minima_explicit(sigma, n_links, cutoff=10000):\n",
    "    if (n_links != 4):\n",
    "        print(\"Explicit mining minima only implemented for 4 links\")\n",
    "        return 0\n",
    "\n",
    "    theta_vals = 2 * np.pi * np.arange(-cutoff, cutoff)\n",
    "    all_folded_gaussian_vals = np.exp(-theta_vals**2/(2 * sigma * sigma))\n",
    "    Z = np.sum(all_folded_gaussian_vals)\n",
    "    Z_unpaired = (Z/(math.sqrt(2 * np.pi) * sigma)) ** 4 # Z multiplied by normalization factor\n",
    "    \n",
    "    # Could instead approximate the Hessian numerically below\n",
    "    dlogZ_dtheta2 = (1/Z) * (1/(sigma**2)) * (1 - np.sum(theta_vals**2 * all_folded_gaussian_vals)/(sigma**2))  \n",
    "    if dlogZ_dtheta2 < 0:\n",
    "        return 0 \n",
    "\n",
    "    sigma_eff = 2/math.sqrt(dlogZ_dtheta2)\n",
    "    Z_paired = math.sqrt(2 * np.pi) * sigma_eff * erf(np.pi/(math.sqrt(2) * sigma_eff)) \n",
    "\n",
    "    # Why are we multipying by Z_unpaired instead of dividing?\n",
    "    # Not sure why I'm off by a factor of 4\n",
    "    C_eff = 2 * np.pi * Z_unpaired * Z_paired/4\n",
    "    return C_eff"
   ]
  },
  {
   "cell_type": "code",
   "execution_count": null,
   "metadata": {},
   "outputs": [],
   "source": [
    "def mining_minima(sigma, n_links, cutoff=10000):"
   ]
  },
  {
   "cell_type": "code",
   "execution_count": 127,
   "metadata": {},
   "outputs": [
    {
     "name": "stdout",
     "output_type": "stream",
     "text": [
      "0.001\n",
      "0.003593813663804626\n",
      "0.01291549665014884\n",
      "0.046415888336127795\n",
      "0.1668100537200059\n",
      "0.5994842503189409\n",
      "2.1544346900318843\n",
      "7.742636826811277\n",
      "27.825594022071257\n",
      "100.0\n"
     ]
    },
    {
     "data": {
      "image/png": "[encoded data removed]",
      "text/plain": [
       "<Figure size 576x360 with 1 Axes>"
      ]
     },
     "metadata": {
      "needs_background": "light"
     },
     "output_type": "display_data"
    }
   ],
   "source": [
    "mining_minima_4 = eval_ceff_range(SIGMA_MIN, SIGMA_MAX, NUM_PTS, np.pi/2, 4, 'mining minima')\n",
    "plot_ceffs(SIGMA_MIN, SIGMA_MAX, NUM_PTS, [mining_minima_4], ['mining minima'])"
   ]
  },
  {
   "cell_type": "markdown",
   "metadata": {},
   "source": [
    "### Gaussian propagation"
   ]
  },
  {
   "cell_type": "code",
   "execution_count": 26,
   "metadata": {},
   "outputs": [],
   "source": [
    "def gaussian_ceff(sigma, theta_0, n_links):\n",
    "    start = np.array([[0, 0, 0], [0, 0, 0], [0, 0, sigma*sigma]]) # Covariance matrix\n",
    "    rinv = np.array([[math.cos(theta_0), math.sin(theta_0), math.cos(theta_0)], \\\n",
    "        [-math.sin(theta_0), math.cos(theta_0), math.sin(theta_0)],[0, 0, 1]]) # Coordinate transform in SE2\n",
    "    cur_mat = start\n",
    "    for ii in range(n_links-1):\n",
    "        cur_mat = np.matmul(np.matmul(rinv, cur_mat), rinv.transpose()) + start\n",
    "    return 2 * np.pi/(math.sqrt(abs(np.linalg.det(cur_mat))) * (2 * np.pi)**(1.5))"
   ]
  },
  {
   "cell_type": "code",
   "execution_count": 60,
   "metadata": {},
   "outputs": [
    {
     "name": "stdout",
     "output_type": "stream",
     "text": [
      "0.001\n",
      "0.003593813663804626\n",
      "0.01291549665014884\n",
      "0.046415888336127795\n",
      "0.1668100537200059\n",
      "0.5994842503189409\n",
      "2.1544346900318843\n",
      "7.742636826811277\n",
      "27.825594022071257\n",
      "100.0\n"
     ]
    },
    {
     "data": {
      "image/png": "[encoded data removed]",
      "text/plain": [
       "<Figure size 432x288 with 1 Axes>"
      ]
     },
     "metadata": {
      "needs_background": "light"
     },
     "output_type": "display_data"
    }
   ],
   "source": [
    "gaussian_ceff_3 = eval_ceff_range(SIGMA_MIN, SIGMA_MAX, NUM_PTS, 2 * np.pi/3, 3, 'gaussian')\n",
    "plot_ceffs(SIGMA_MIN, SIGMA_MAX, NUM_PTS, [gaussian_ceff_3], ['gaussian'])"
   ]
  },
  {
   "cell_type": "code",
   "execution_count": 61,
   "metadata": {},
   "outputs": [
    {
     "name": "stdout",
     "output_type": "stream",
     "text": [
      "0.001\n",
      "0.003593813663804626\n",
      "0.01291549665014884\n",
      "0.046415888336127795\n",
      "0.1668100537200059\n",
      "0.5994842503189409\n",
      "2.1544346900318843\n",
      "7.742636826811277\n",
      "27.825594022071257\n",
      "100.0\n"
     ]
    },
    {
     "data": {
      "image/png": "[encoded data removed]",
      "text/plain": [
       "<Figure size 432x288 with 1 Axes>"
      ]
     },
     "metadata": {
      "needs_background": "light"
     },
     "output_type": "display_data"
    }
   ],
   "source": [
    "gaussian_ceff_4 = eval_ceff_range(SIGMA_MIN, SIGMA_MAX, NUM_PTS, np.pi/2, 4, 'gaussian')\n",
    "plot_ceffs(SIGMA_MIN, SIGMA_MAX, NUM_PTS, [gaussian_ceff_4], ['gaussian'])"
   ]
  },
  {
   "cell_type": "code",
   "execution_count": 117,
   "metadata": {},
   "outputs": [
    {
     "name": "stdout",
     "output_type": "stream",
     "text": [
      "0.001\n",
      "0.003593813663804626\n",
      "0.01291549665014884\n",
      "0.046415888336127795\n",
      "0.1668100537200059\n",
      "0.5994842503189409\n",
      "2.1544346900318843\n",
      "7.742636826811277\n",
      "27.825594022071257\n",
      "100.0\n"
     ]
    },
    {
     "data": {
      "image/png": "[encoded data removed]",
      "text/plain": [
       "<Figure size 576x360 with 1 Axes>"
      ]
     },
     "metadata": {
      "needs_background": "light"
     },
     "output_type": "display_data"
    }
   ],
   "source": [
    "gaussian_ceff_7 = eval_ceff_range(SIGMA_MIN, SIGMA_MAX, NUM_PTS, 2 * np.pi/7, 7, 'gaussian')\n",
    "plot_ceffs(SIGMA_MIN, SIGMA_MAX, NUM_PTS, [gaussian_ceff_7], ['gaussian'])"
   ]
  },
  {
   "cell_type": "markdown",
   "metadata": {},
   "source": [
    "### Stochastic MC sampling*"
   ]
  },
  {
   "cell_type": "code",
   "execution_count": 69,
   "metadata": {},
   "outputs": [],
   "source": [
    "def generate_for_samples(sigma, theta_0, nfor, L, niter):\n",
    "    theta_totals = np.zeros(niter)\n",
    "    x_totals = np.zeros(niter)\n",
    "    y_totals = np.zeros(niter)\n",
    "    for ii in range(nfor):\n",
    "        theta_vals = np.random.normal(loc=theta_0, scale=sigma, size=niter)\n",
    "        theta_totals += theta_vals\n",
    "        theta_totals %= 2 * np.pi\n",
    "        x_totals += L * np.cos(theta_totals)\n",
    "        y_totals += L * np.sin(theta_totals)\n",
    "    return [theta_totals, x_totals, y_totals]"
   ]
  },
  {
   "cell_type": "code",
   "execution_count": 70,
   "metadata": {},
   "outputs": [],
   "source": [
    "def generate_rev_samples(sigma, theta_0, nrev, L, niter, add_noise=False):\n",
    "    theta_rev_totals = np.zeros(niter)\n",
    "    x_rev_totals = np.zeros(niter)\n",
    "    y_rev_totals = np.zeros(niter)\n",
    "    for ii in range(nrev):\n",
    "        x_rev_totals -= L * np.cos(2 * np.pi - theta_rev_totals)\n",
    "        if add_noise and nrev == 1:\n",
    "            x_rev_totals += np.random.normal(loc=0, scale=0.001, size=niter)\n",
    "        y_rev_totals -= L * np.sin(2 * np.pi - theta_rev_totals)\n",
    "        if add_noise and nrev == 1:\n",
    "            y_rev_totals += np.random.normal(loc=0, scale=0.001, size=niter)\n",
    "        theta_vals = np.random.normal(loc=theta_0, scale=sigma, size=niter)\n",
    "        theta_rev_totals += theta_vals\n",
    "    theta_rev_totals = 2 * np.pi - theta_rev_totals\n",
    "    theta_rev_totals %= 2 * np.pi\n",
    "    return [theta_rev_totals, x_rev_totals, y_rev_totals]"
   ]
  },
  {
   "cell_type": "code",
   "execution_count": 71,
   "metadata": {},
   "outputs": [],
   "source": [
    "def grid_ceff(sigma, theta_0, nfor, nrev, L=1, niter=100000, num_bins=400):\n",
    "    # Generate forward samples\n",
    "    [theta_totals, x_totals, y_totals] = generate_for_samples(sigma, theta_0, nfor, L, niter)\n",
    "\n",
    "    # Generate reverse samples\n",
    "    [theta_rev_totals, x_rev_totals, y_rev_totals] = generate_rev_samples(sigma, theta_0, nrev, L, niter)\n",
    "\n",
    "    arr_data = np.concatenate(([theta_totals], [x_totals], [y_totals])).T\n",
    "    rev_arr_data = np.concatenate(([theta_rev_totals], [x_rev_totals], [y_rev_totals])).T\n",
    "    \n",
    "    # Define x, y, theta bin dimensions for histogram\n",
    "    del_theta = (2 * np.pi)/num_bins\n",
    "    xmin = ymin = -2 * L\n",
    "    xmax = ymax = 2 * L\n",
    "    del_x = (xmax-xmin)/num_bins\n",
    "    del_y = (ymax-ymin)/num_bins\n",
    "    theta_bins = np.arange(0, 2 * np.pi, del_theta)\n",
    "    x_bins = np.arange(xmin, xmax, del_x) - del_x/2\n",
    "    y_bins = np.arange(ymin, ymax, del_y) - del_y/2\n",
    "\n",
    "    # Assemble histogram using sampled values\n",
    "    # density=True takes care of dividing by the total count and the bin volumes\n",
    "    for_p_arr, _ = np.histogramdd(arr_data, bins=(theta_bins, x_bins, y_bins), density=True)\n",
    "    rev_p_arr, _ = np.histogramdd(rev_arr_data, bins=(theta_bins, x_bins, y_bins), density=True)\n",
    "\n",
    "    # Calculate the total probability of going forward and then backward\n",
    "    for_rev_prod = np.multiply(for_p_arr, rev_p_arr)\n",
    "    total = np.sum(for_rev_prod) * del_theta * del_x * del_y\n",
    "    total *= 2 * np.pi\n",
    "    return total"
   ]
  },
  {
   "cell_type": "code",
   "execution_count": 72,
   "metadata": {},
   "outputs": [],
   "source": [
    "def grid_ceff_kde(sigma, theta_0, nfor, nrev, L=1, niter=1000, num_bins=400):\n",
    "    # Generate forward samples\n",
    "    [theta_totals, x_totals, y_totals] = generate_for_samples(sigma, theta_0, nfor, L, niter)\n",
    "\n",
    "    # Generate reverse samples\n",
    "    [theta_rev_totals, x_rev_totals, y_rev_totals] = generate_rev_samples(sigma, theta_0, nrev, L, niter, add_noise=True)\n",
    "\n",
    "    arr_data = np.concatenate(([theta_totals], [x_totals], [y_totals]))\n",
    "    rev_arr_data = np.concatenate(([theta_rev_totals], [x_rev_totals], [y_rev_totals]))\n",
    "\n",
    "    # Use a Multivariable KDE to evaluate overlap\n",
    "    for_kde = gaussian_kde(arr_data)\n",
    "    rev_kde = gaussian_kde(rev_arr_data)\n",
    "\n",
    "    # Calculate the total probability of going forward and then backward\n",
    "    total = 2 * np.pi * for_kde.integrate_kde(rev_kde)    \n",
    "    return total"
   ]
  },
  {
   "cell_type": "code",
   "execution_count": 67,
   "metadata": {},
   "outputs": [
    {
     "data": {
      "text/plain": [
       "dict_keys(['analytical', 'infsig', 'gaussian', 'Last Link 1', 'Last Link 2', 'RNAMake', 'mining minima', 'grid1', 'grid2', 'grid1 kde', 'grid2 kde', 'SE(2) order 10', 'naive'])"
      ]
     },
     "execution_count": 67,
     "metadata": {},
     "output_type": "execute_result"
    }
   ],
   "source": [
    "style_dict.keys()"
   ]
  },
  {
   "cell_type": "code",
   "execution_count": 76,
   "metadata": {
    "scrolled": true
   },
   "outputs": [
    {
     "name": "stdout",
     "output_type": "stream",
     "text": [
      "0.001\n",
      "0.003593813663804626\n",
      "0.01291549665014884\n",
      "0.046415888336127795\n",
      "0.1668100537200059\n",
      "0.5994842503189409\n",
      "2.1544346900318843\n",
      "7.742636826811277\n",
      "27.825594022071257\n",
      "100.0\n",
      "0.001\n",
      "0.003593813663804626\n",
      "0.01291549665014884\n",
      "0.046415888336127795\n",
      "0.1668100537200059\n",
      "0.5994842503189409\n",
      "2.1544346900318843\n",
      "7.742636826811277\n",
      "27.825594022071257\n",
      "100.0\n",
      "0.001\n",
      "0.003593813663804626\n",
      "0.01291549665014884\n",
      "0.046415888336127795\n",
      "0.1668100537200059\n",
      "0.5994842503189409\n",
      "2.1544346900318843\n",
      "7.742636826811277\n",
      "27.825594022071257\n",
      "100.0\n",
      "0.001\n",
      "0.003593813663804626\n",
      "0.01291549665014884\n",
      "0.046415888336127795\n",
      "0.1668100537200059\n",
      "0.5994842503189409\n",
      "2.1544346900318843\n",
      "7.742636826811277\n",
      "27.825594022071257\n",
      "100.0\n",
      "0.001\n",
      "0.003593813663804626\n",
      "0.01291549665014884\n",
      "0.046415888336127795\n",
      "0.1668100537200059\n",
      "0.5994842503189409\n",
      "2.1544346900318843\n",
      "7.742636826811277\n",
      "27.825594022071257\n",
      "100.0\n",
      "0.001\n",
      "0.003593813663804626\n",
      "0.01291549665014884\n",
      "0.046415888336127795\n",
      "0.1668100537200059\n",
      "0.5994842503189409\n",
      "2.1544346900318843\n",
      "7.742636826811277\n",
      "27.825594022071257\n",
      "100.0\n"
     ]
    }
   ],
   "source": [
    "grid1_ceff_3 = eval_ceff_range(SIGMA_MIN, SIGMA_MAX, NUM_PTS, 2 * np.pi/3, 3, 'grid1')\n",
    "grid1_ceff_4 = eval_ceff_range(SIGMA_MIN, SIGMA_MAX, NUM_PTS, np.pi/2, 4, 'grid1')\n",
    "grid2_ceff_4 = eval_ceff_range(SIGMA_MIN, SIGMA_MAX, NUM_PTS, np.pi/2, 4, 'grid2')\n",
    "grid1_ceff_kde_3 = eval_ceff_range(SIGMA_MIN, SIGMA_MAX, NUM_PTS, 2 * np.pi/3, 3, 'grid1 kde')\n",
    "grid1_ceff_kde_4 = eval_ceff_range(SIGMA_MIN, SIGMA_MAX, NUM_PTS, np.pi/2, 4, 'grid1 kde')\n",
    "grid2_ceff_kde_4 = eval_ceff_range(SIGMA_MIN, SIGMA_MAX, NUM_PTS, np.pi/2, 4, 'grid2 kde')"
   ]
  },
  {
   "cell_type": "code",
   "execution_count": 118,
   "metadata": {
    "scrolled": true
   },
   "outputs": [
    {
     "name": "stdout",
     "output_type": "stream",
     "text": [
      "0.001\n",
      "0.003593813663804626\n",
      "0.01291549665014884\n",
      "0.046415888336127795\n",
      "0.1668100537200059\n",
      "0.5994842503189409\n",
      "2.1544346900318843\n",
      "7.742636826811277\n",
      "27.825594022071257\n",
      "100.0\n",
      "0.001\n",
      "0.003593813663804626\n",
      "0.01291549665014884\n",
      "0.046415888336127795\n",
      "0.1668100537200059\n",
      "0.5994842503189409\n",
      "2.1544346900318843\n",
      "7.742636826811277\n",
      "27.825594022071257\n",
      "100.0\n",
      "0.001\n",
      "0.003593813663804626\n",
      "0.01291549665014884\n",
      "0.046415888336127795\n",
      "0.1668100537200059\n",
      "0.5994842503189409\n",
      "2.1544346900318843\n",
      "7.742636826811277\n",
      "27.825594022071257\n",
      "100.0\n",
      "0.001\n",
      "0.003593813663804626\n",
      "0.01291549665014884\n",
      "0.046415888336127795\n",
      "0.1668100537200059\n",
      "0.5994842503189409\n",
      "2.1544346900318843\n",
      "7.742636826811277\n",
      "27.825594022071257\n",
      "100.0\n"
     ]
    }
   ],
   "source": [
    "grid1_ceff_7 = eval_ceff_range(SIGMA_MIN, SIGMA_MAX, NUM_PTS, 2 * np.pi/7, 7, 'grid1')\n",
    "grid2_ceff_7 = eval_ceff_range(SIGMA_MIN, SIGMA_MAX, NUM_PTS, 2 * np.pi/7, 7, 'grid2')\n",
    "grid1_ceff_kde_7 = eval_ceff_range(SIGMA_MIN, SIGMA_MAX, NUM_PTS, 2 * np.pi/7, 7, 'grid1 kde')\n",
    "grid2_ceff_kde_7 = eval_ceff_range(SIGMA_MIN, SIGMA_MAX, NUM_PTS, 2 * np.pi/7, 7, 'grid2 kde')"
   ]
  },
  {
   "cell_type": "code",
   "execution_count": 79,
   "metadata": {},
   "outputs": [
    {
     "data": {
      "image/png": "[encoded data removed]",
      "text/plain": [
       "<Figure size 432x288 with 1 Axes>"
      ]
     },
     "metadata": {
      "needs_background": "light"
     },
     "output_type": "display_data"
    }
   ],
   "source": [
    "plot_ceffs(SIGMA_MIN, SIGMA_MAX, NUM_PTS, [grid1_ceff_3, grid1_ceff_kde_3], ['grid1', 'grid1 kde'])"
   ]
  },
  {
   "cell_type": "code",
   "execution_count": 80,
   "metadata": {},
   "outputs": [
    {
     "data": {
      "image/png": "[encoded data removed]",
      "text/plain": [
       "<Figure size 432x288 with 1 Axes>"
      ]
     },
     "metadata": {
      "needs_background": "light"
     },
     "output_type": "display_data"
    }
   ],
   "source": [
    "plot_ceffs(SIGMA_MIN, SIGMA_MAX, NUM_PTS, [grid1_ceff_4, grid1_ceff_kde_4, grid2_ceff_4, grid2_ceff_kde_4], \n",
    "           ['grid1', 'grid1 kde', 'grid2', 'grid2 kde'])"
   ]
  },
  {
   "cell_type": "code",
   "execution_count": 119,
   "metadata": {},
   "outputs": [
    {
     "data": {
      "image/png": "[encoded data removed]",
      "text/plain": [
       "<Figure size 576x360 with 1 Axes>"
      ]
     },
     "metadata": {
      "needs_background": "light"
     },
     "output_type": "display_data"
    }
   ],
   "source": [
    "plot_ceffs(SIGMA_MIN, SIGMA_MAX, NUM_PTS, [grid1_ceff_7, grid1_ceff_kde_7, grid2_ceff_7, grid2_ceff_kde_7], \n",
    "           ['grid1', 'grid1 kde', 'grid2', 'grid2 kde'])"
   ]
  },
  {
   "cell_type": "markdown",
   "metadata": {},
   "source": [
    "### Last Link 1*"
   ]
  },
  {
   "cell_type": "code",
   "execution_count": 82,
   "metadata": {},
   "outputs": [],
   "source": [
    "def last_link_1(sigma, theta_0, n_links, L=1, niter=10000, num_bins=10000, \n",
    "    r_thresh=0.01, theta_thresh=0.01):\n",
    "    del_theta = 2 * np.pi/num_bins \n",
    "\n",
    "    theta_prod = np.ones(niter)\n",
    "\n",
    "    # Sample first links\n",
    "    [theta_totals, x_totals, y_totals] = generate_for_samples(sigma, theta_0, n_links-1, L, niter)\n",
    "\n",
    "    # Last link\n",
    "    theta_vals = 2 * np.pi - theta_totals\n",
    "    folded_vals = eval_folded_grid(sigma, theta_vals - theta_0)\n",
    "\n",
    "    # Indicator for length pass\n",
    "    r_pass = np.abs(L - np.sqrt(x_totals**2 + y_totals**2)) < r_thresh\n",
    "    r_pass = r_pass.astype(int)\n",
    "    \n",
    "    # Indicator for angle pass\n",
    "    phi_final = np.arctan2(x_totals * np.sin(theta_totals) - y_totals * np.cos(theta_totals), \\\n",
    "        - x_totals * np.cos(theta_totals) - y_totals * np.sin(theta_totals))\n",
    "    phi_pass = np.abs(theta_vals - phi_final) < theta_thresh\n",
    "    phi_pass = phi_pass.astype(int)\n",
    "\n",
    "    prob = sum(r_pass * folded_vals * phi_pass)/niter\n",
    "    return 2 * np.pi * prob/(np.pi * r_thresh * theta_thresh)"
   ]
  },
  {
   "cell_type": "code",
   "execution_count": 83,
   "metadata": {},
   "outputs": [
    {
     "name": "stdout",
     "output_type": "stream",
     "text": [
      "0.001\n",
      "0.003593813663804626\n",
      "0.01291549665014884\n",
      "0.046415888336127795\n",
      "0.1668100537200059\n",
      "0.5994842503189409\n",
      "2.1544346900318843\n",
      "7.742636826811277\n",
      "27.825594022071257\n",
      "100.0\n"
     ]
    },
    {
     "data": {
      "image/png": "[encoded data removed]",
      "text/plain": [
       "<Figure size 432x288 with 1 Axes>"
      ]
     },
     "metadata": {
      "needs_background": "light"
     },
     "output_type": "display_data"
    },
    {
     "name": "stdout",
     "output_type": "stream",
     "text": [
      "0.001\n",
      "0.003593813663804626\n",
      "0.01291549665014884\n",
      "0.046415888336127795\n",
      "0.1668100537200059\n",
      "0.5994842503189409\n",
      "2.1544346900318843\n",
      "7.742636826811277\n",
      "27.825594022071257\n",
      "100.0\n"
     ]
    },
    {
     "data": {
      "image/png": "[encoded data removed]",
      "text/plain": [
       "<Figure size 432x288 with 1 Axes>"
      ]
     },
     "metadata": {
      "needs_background": "light"
     },
     "output_type": "display_data"
    }
   ],
   "source": [
    "lastlink1_3 = eval_ceff_range(SIGMA_MIN, SIGMA_MAX, NUM_PTS, 2 * np.pi/3, 3, 'Last Link 1')\n",
    "plot_ceffs(SIGMA_MIN, SIGMA_MAX, NUM_PTS, [lastlink1_3], ['Last Link 1'])"
   ]
  },
  {
   "cell_type": "code",
   "execution_count": null,
   "metadata": {},
   "outputs": [],
   "source": [
    "lastlink1_4 = eval_ceff_range(SIGMA_MIN, SIGMA_MAX, NUM_PTS, np.pi/2, 4, 'Last Link 1')\n",
    "plot_ceffs(SIGMA_MIN, SIGMA_MAX, NUM_PTS, [lastlink1_4], ['Last Link 1'])"
   ]
  },
  {
   "cell_type": "code",
   "execution_count": 120,
   "metadata": {},
   "outputs": [
    {
     "name": "stdout",
     "output_type": "stream",
     "text": [
      "0.001\n",
      "0.003593813663804626\n",
      "0.01291549665014884\n",
      "0.046415888336127795\n",
      "0.1668100537200059\n",
      "0.5994842503189409\n",
      "2.1544346900318843\n",
      "7.742636826811277\n",
      "27.825594022071257\n",
      "100.0\n"
     ]
    },
    {
     "data": {
      "image/png": "[encoded data removed]",
      "text/plain": [
       "<Figure size 576x360 with 1 Axes>"
      ]
     },
     "metadata": {
      "needs_background": "light"
     },
     "output_type": "display_data"
    }
   ],
   "source": [
    "lastlink1_7 = eval_ceff_range(SIGMA_MIN, SIGMA_MAX, NUM_PTS, 2 * np.pi/7, 7, 'Last Link 1')\n",
    "plot_ceffs(SIGMA_MIN, SIGMA_MAX, NUM_PTS, [lastlink1_7], ['Last Link 1'])"
   ]
  },
  {
   "cell_type": "markdown",
   "metadata": {},
   "source": [
    "### Last Link 2*"
   ]
  },
  {
   "cell_type": "code",
   "execution_count": 144,
   "metadata": {},
   "outputs": [],
   "source": [
    "def last_link_2_special(sigma, theta_0, n_links, L=1, niter=10000):\n",
    "    if (n_links != 4):\n",
    "        print(\"Cannot compute two last links' Ceff for nlinks not 4\")\n",
    "        return -1        \n",
    "    \n",
    "    # Get theta samples for one link\n",
    "    theta_vals = np.random.normal(loc=theta_0, scale=sigma, size=niter)\n",
    "\n",
    "    # For the one correct solution, calculate the area of the parallelopiped\n",
    "    det_vals = np.abs(np.cos(theta_vals - theta_0))\n",
    "\n",
    "    # Multiply by folded Gaussian values\n",
    "    # Add all vals and multiply by 2 pi\n",
    "    ceff = 2 * np.pi * np.sum(eval_folded_grid(sigma, theta_vals - theta_0)**3/det_vals)/niter\n",
    "    return ceff"
   ]
  },
  {
   "cell_type": "code",
   "execution_count": 199,
   "metadata": {},
   "outputs": [],
   "source": [
    "def generate_last_two_samples(sigma, theta_0, nfor, L, niter):\n",
    "    theta_totals = np.zeros(niter)\n",
    "    x_totals = np.zeros(niter)\n",
    "    y_totals = np.zeros(niter)\n",
    "    x_prev = np.zeros(niter)\n",
    "    y_prev = np.zeros(niter)\n",
    "    for ii in range(nfor):\n",
    "        theta_vals = np.random.normal(loc=theta_0, scale=sigma, size=niter)\n",
    "        theta_totals += theta_vals\n",
    "        theta_totals %= 2 * np.pi\n",
    "        x_prev = np.copy(x_totals)\n",
    "        y_prev = np.copy(y_totals)\n",
    "        x_totals += L * np.cos(theta_totals)\n",
    "        y_totals += L * np.sin(theta_totals)\n",
    "    return [theta_totals, x_totals, y_totals, x_prev, y_prev]"
   ]
  },
  {
   "cell_type": "code",
   "execution_count": 274,
   "metadata": {},
   "outputs": [],
   "source": [
    "def last_link_2(sigma, theta_0, n_links, L=1, niter=10000):\n",
    "    if (n_links < 4):\n",
    "        print(\"Cannot compute two last links' Ceff for nlinks less than 4\")\n",
    "        return -1        \n",
    "    \n",
    "    # Get theta samples for one link\n",
    "    [theta_totals, x_totals, y_totals, x_prev, y_prev] = \\\n",
    "        generate_last_two_samples(sigma, theta_0, n_links - 3, L, niter)\n",
    "    \n",
    "    # Get remaining points\n",
    "    [(x1, y1), (x2, y2)] = get_triangles(x_totals, y_totals, L)\n",
    "    \n",
    "    # Get angles for probability calculation\n",
    "    zeros = np.zeros(niter)\n",
    "    angle1_1 = np.pi - get_angle([x_prev, y_prev], [x_totals, y_totals], [x1, y1])\n",
    "    angle1_2 = np.pi - get_angle([x_prev, y_prev], [x_totals, y_totals], [x2, y2])\n",
    "    angle2_1 = np.pi - get_angle([x_totals, y_totals], [x1, y1], [-L * np.ones(niter), zeros])\n",
    "    angle2_2 = np.pi - get_angle([x_totals, y_totals], [x2, y2], [-L * np.ones(niter), zeros])\n",
    "    angle3_1 = np.pi - get_angle([x1, y1], [-L * np.ones(niter), zeros], [zeros, zeros])\n",
    "    angle3_2 = np.pi - get_angle([x2, y2], [-L * np.ones(niter), zeros], [zeros, zeros])\n",
    "\n",
    "    # Vectorized determinant calculation \n",
    "    det_vals_1 = np.abs(get_J([[x_totals, y_totals], [x1, y1], [-L * np.ones(niter), zeros]]))\n",
    "    det_vals_2 = np.abs(get_J([[x_totals, y_totals], [x2, y2], [-L * np.ones(niter), zeros]]))\n",
    "\n",
    "    # Evaluate probability value with folded Gaussians\n",
    "    soln_1 = np.nansum(eval_folded_grid(sigma, angle1_1 - theta_0) * \\\n",
    "                eval_folded_grid(sigma, angle2_1 - theta_0) * \\\n",
    "                eval_folded_grid(sigma, angle3_1 - theta_0)/det_vals_1)\n",
    "    soln_2 = np.nansum(eval_folded_grid(sigma, angle1_2 - theta_0) * \\\n",
    "                eval_folded_grid(sigma, angle2_2 - theta_0) * \\\n",
    "                eval_folded_grid(sigma, angle3_2 - theta_0)/det_vals_2)\n",
    "\n",
    "    # Add all vals and multiply by 2 pi\n",
    "    ceff = 2 * np.pi * (soln_1 + soln_2)/niter\n",
    "    return ceff"
   ]
  },
  {
   "cell_type": "code",
   "execution_count": 276,
   "metadata": {},
   "outputs": [
    {
     "name": "stdout",
     "output_type": "stream",
     "text": [
      "0.001\n",
      "0.003593813663804626\n",
      "0.01291549665014884\n",
      "0.046415888336127795\n"
     ]
    },
    {
     "name": "stderr",
     "output_type": "stream",
     "text": [
      "/usr/local/lib/python3.7/site-packages/ipykernel_launcher.py:8: RuntimeWarning: invalid value encountered in sqrt\n",
      "  \n"
     ]
    },
    {
     "name": "stdout",
     "output_type": "stream",
     "text": [
      "0.1668100537200059\n",
      "0.5994842503189409\n",
      "2.1544346900318843\n",
      "7.742636826811277\n",
      "27.825594022071257\n",
      "100.0\n"
     ]
    },
    {
     "data": {
      "image/png": "[encoded data removed]",
      "text/plain": [
       "<Figure size 576x360 with 1 Axes>"
      ]
     },
     "metadata": {
      "needs_background": "light"
     },
     "output_type": "display_data"
    }
   ],
   "source": [
    "lastlink2_7 = eval_ceff_range(SIGMA_MIN, SIGMA_MAX, NUM_PTS, 2 * np.pi/7, 7, 'Last Link 2')\n",
    "plot_ceffs(SIGMA_MIN, SIGMA_MAX, NUM_PTS, [lastlink2_7], ['Last Link 2'])"
   ]
  },
  {
   "cell_type": "code",
   "execution_count": 237,
   "metadata": {},
   "outputs": [
    {
     "name": "stdout",
     "output_type": "stream",
     "text": [
      "0.001\n",
      "203352073.13675562\n",
      "0.003593813663804626\n",
      "4284138.373971814\n",
      "0.01291549665014884\n",
      "91878.07972388242\n",
      "0.046415888336127795\n",
      "2004.038286039811\n",
      "0.1668100537200059\n",
      "42.90091341304131\n",
      "0.5994842503189409\n",
      "0.979109403622344\n",
      "2.1544346900318843\n",
      "0.4058709611406786\n",
      "7.742636826811277\n",
      "0.8393209577172632\n",
      "27.825594022071257\n",
      "0.2854118055096399\n",
      "100.0\n",
      "0.30246138742429535\n"
     ]
    }
   ],
   "source": [
    "lastlink2_4 = eval_ceff_range(SIGMA_MIN, SIGMA_MAX, NUM_PTS, np.pi/2, 4, 'Last Link 2')"
   ]
  },
  {
   "cell_type": "code",
   "execution_count": 240,
   "metadata": {},
   "outputs": [
    {
     "data": {
      "image/png": "[encoded data removed]",
      "text/plain": [
       "<Figure size 576x360 with 1 Axes>"
      ]
     },
     "metadata": {
      "needs_background": "light"
     },
     "output_type": "display_data"
    }
   ],
   "source": [
    "plot_ceffs(SIGMA_MIN, SIGMA_MAX, NUM_PTS, [lastlink2_4], ['Last Link 2'])"
   ]
  },
  {
   "cell_type": "markdown",
   "metadata": {},
   "source": [
    "## Comparing Ceff methods"
   ]
  },
  {
   "cell_type": "code",
   "execution_count": 95,
   "metadata": {},
   "outputs": [
    {
     "data": {
      "image/png": "[encoded data removed]",
      "text/plain": [
       "<Figure size 1080x720 with 1 Axes>"
      ]
     },
     "metadata": {
      "needs_background": "light"
     },
     "output_type": "display_data"
    }
   ],
   "source": [
    "# Three links\n",
    "ceff_lists_3 = [numerical_ceff_vals_3, analytical_inf_vals_3, analytical_vals_3, se2_ceff_vals_3, \\\n",
    "                gaussian_ceff_4, grid1_ceff_4, grid1_ceff_kde_4, lastlink1_4]\n",
    "label_list_3 = ['naive', 'infsig', 'analytical', 'SE(2) order 10', 'gaussian',\\\n",
    "                'grid1', 'grid1 kde', 'Last Link 1']\n",
    "plot_ceffs(SIGMA_MIN, SIGMA_MAX, NUM_PTS, ceff_lists_3, label_list_3, fig_size=(15, 10))"
   ]
  },
  {
   "cell_type": "code",
   "execution_count": 239,
   "metadata": {},
   "outputs": [
    {
     "data": {
      "image/png": "[encoded data removed]",
      "text/plain": [
       "<Figure size 1080x720 with 1 Axes>"
      ]
     },
     "metadata": {
      "needs_background": "light"
     },
     "output_type": "display_data"
    }
   ],
   "source": [
    "# Four links\n",
    "ceff_lists_4 = [numerical_ceff_vals_4, analytical_inf_vals_4, analytical_vals_4, se2_ceff_vals_4, \\\n",
    "                mining_minima_4, gaussian_ceff_4, grid1_ceff_4, grid1_ceff_kde_4, grid2_ceff_4, \\\n",
    "                grid2_ceff_kde_4, lastlink1_4, lastlink2_4]\n",
    "label_list_4 = ['naive', 'infsig', 'analytical', 'SE(2) order 10', 'mining minima', 'gaussian',\\\n",
    "                'grid1', 'grid1 kde', 'grid2', 'grid2 kde', 'Last Link 1', 'Last Link 2']\n",
    "plot_ceffs(SIGMA_MIN, SIGMA_MAX, NUM_PTS, ceff_lists_4, label_list_4, fig_size=(15, 10))"
   ]
  },
  {
   "cell_type": "code",
   "execution_count": 277,
   "metadata": {},
   "outputs": [
    {
     "data": {
      "image/png": "[encoded data removed]",
      "text/plain": [
       "<Figure size 1080x720 with 1 Axes>"
      ]
     },
     "metadata": {
      "needs_background": "light"
     },
     "output_type": "display_data"
    }
   ],
   "source": [
    "# Seven links\n",
    "ceff_lists_7 = [numerical_ceff_vals_7, analytical_inf_vals_7, se2_ceff_vals_7, \\\n",
    "                gaussian_ceff_7, grid1_ceff_7, grid1_ceff_kde_7, grid2_ceff_7, \\\n",
    "                grid2_ceff_kde_7, lastlink1_7, lastlink2_7]\n",
    "label_list_7 = ['naive', 'infsig', 'SE(2) order 10', 'gaussian',\\\n",
    "                'grid1', 'grid1 kde', 'grid2', 'grid2 kde', 'Last Link 1', 'Last Link 2']\n",
    "plot_ceffs(SIGMA_MIN, SIGMA_MAX, NUM_PTS, ceff_lists_7, label_list_7, fig_size=(15, 10))"
   ]
  }
 ],
 "metadata": {
  "kernelspec": {
   "display_name": "Python 3",
   "language": "python",
   "name": "python3"
  },
  "language_info": {
   "codemirror_mode": {
    "name": "ipython",
    "version": 3
   },
   "file_extension": ".py",
   "mimetype": "text/x-python",
   "name": "python",
   "nbconvert_exporter": "python",
   "pygments_lexer": "ipython3",
   "version": "3.7.1"
  }
 },
 "nbformat": 4,
 "nbformat_minor": 4
}
