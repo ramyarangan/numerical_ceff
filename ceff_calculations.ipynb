{
 "cells": [
  {
   "cell_type": "code",
   "execution_count": 1,
   "metadata": {},
   "outputs": [],
   "source": [
    "%load_ext autoreload\n",
    "%autoreload 2\n",
    "import numpy as np\n",
    "import matplotlib.pyplot as plt\n",
    "from scipy.special import jv\n",
    "from scipy.special import erf\n",
    "from scipy.stats import gaussian_kde\n",
    "import math\n",
    "import random\n",
    "from numpy import linalg as LA\n",
    "from itertools import product\n",
    "from utils import *\n",
    "from plot import *\n",
    "from copy import copy\n",
    "from ceff_wrapper import *"
   ]
  },
  {
   "cell_type": "markdown",
   "metadata": {},
   "source": [
    "## Ceff calculations"
   ]
  },
  {
   "cell_type": "code",
   "execution_count": 2,
   "metadata": {
    "collapsed": true,
    "jupyter": {
     "outputs_hidden": true
    }
   },
   "outputs": [
    {
     "name": "stdout",
     "output_type": "stream",
     "text": [
      "0.001\n",
      "0.003593813663804626\n",
      "0.01291549665014884\n",
      "0.046415888336127795\n",
      "0.1668100537200059\n",
      "0.5994842503189409\n",
      "2.1544346900318843\n",
      "7.742636826811277\n",
      "27.825594022071257\n",
      "100.0\n",
      "0.001\n",
      "0.003593813663804626\n",
      "0.01291549665014884\n",
      "0.046415888336127795\n",
      "0.1668100537200059\n",
      "0.5994842503189409\n",
      "2.1544346900318843\n",
      "7.742636826811277\n",
      "27.825594022071257\n",
      "100.0\n",
      "0.001\n",
      "0.003593813663804626\n",
      "0.01291549665014884\n",
      "0.046415888336127795\n",
      "0.1668100537200059\n",
      "0.5994842503189409\n",
      "2.1544346900318843\n",
      "7.742636826811277\n",
      "27.825594022071257\n",
      "100.0\n",
      "0.001\n",
      "0.003593813663804626\n",
      "0.01291549665014884\n",
      "0.046415888336127795\n",
      "0.1668100537200059\n",
      "0.5994842503189409\n",
      "2.1544346900318843\n",
      "7.742636826811277\n",
      "27.825594022071257\n",
      "100.0\n",
      "0.001\n",
      "0.003593813663804626\n",
      "0.01291549665014884\n",
      "0.046415888336127795\n",
      "0.1668100537200059\n",
      "0.5994842503189409\n",
      "2.1544346900318843\n",
      "7.742636826811277\n",
      "27.825594022071257\n",
      "100.0\n",
      "0.001\n",
      "0.003593813663804626\n",
      "0.01291549665014884\n",
      "0.046415888336127795\n",
      "0.1668100537200059\n",
      "0.5994842503189409\n",
      "2.1544346900318843\n",
      "7.742636826811277\n",
      "27.825594022071257\n",
      "100.0\n",
      "0.001\n",
      "0.003593813663804626\n",
      "0.01291549665014884\n",
      "0.046415888336127795\n",
      "0.1668100537200059\n",
      "0.5994842503189409\n",
      "2.1544346900318843\n",
      "7.742636826811277\n",
      "27.825594022071257\n",
      "100.0\n",
      "0.001\n",
      "0.003593813663804626\n",
      "0.01291549665014884\n",
      "0.046415888336127795\n",
      "0.1668100537200059\n",
      "0.5994842503189409\n",
      "2.1544346900318843\n",
      "7.742636826811277\n",
      "27.825594022071257\n",
      "100.0\n",
      "0.001\n",
      "0.003593813663804626\n",
      "0.01291549665014884\n",
      "0.046415888336127795\n",
      "0.1668100537200059\n",
      "0.5994842503189409\n",
      "2.1544346900318843\n",
      "7.742636826811277\n",
      "27.825594022071257\n",
      "100.0\n"
     ]
    }
   ],
   "source": [
    "numerical_ceff_vals_3 = eval_ceff_range(2 * np.pi/3, 3, 'naive')\n",
    "numerical_ceff_vals_4 = eval_ceff_range(np.pi/2, 4, 'naive')\n",
    "numerical_ceff_vals_4_0 = eval_ceff_range(0, 4, 'naive')\n",
    "numerical_ceff_vals_7 = eval_ceff_range(2 * np.pi/7, 7, 'naive')\n",
    "\n",
    "analytical_inf_vals_3 = eval_ceff_range(2 * np.pi/3, 3, 'infsig')\n",
    "analytical_inf_vals_4 = eval_ceff_range(np.pi/2, 4, 'infsig')\n",
    "analytical_inf_vals_7 = eval_ceff_range(2 * np.pi/7, 7, 'infsig')\n",
    "\n",
    "analytical_vals_3 = eval_ceff_range(2 * np.pi/3, 3, 'analytical')\n",
    "analytical_vals_4 = eval_ceff_range(2 * np.pi/4, 4, 'analytical')\n",
    "#analytical_vals_7 = eval_ceff_range(2 * np.pi/7, 7, 'analytical') #kernel will die with regular integration stepsize"
   ]
  },
  {
   "cell_type": "code",
   "execution_count": 3,
   "metadata": {
    "collapsed": true,
    "jupyter": {
     "outputs_hidden": true
    }
   },
   "outputs": [
    {
     "name": "stdout",
     "output_type": "stream",
     "text": [
      "0.001\n",
      "0.003593813663804626\n",
      "0.01291549665014884\n",
      "0.046415888336127795\n",
      "0.1668100537200059\n",
      "0.5994842503189409\n",
      "2.1544346900318843\n",
      "7.742636826811277\n",
      "27.825594022071257\n",
      "100.0\n"
     ]
    }
   ],
   "source": [
    "se2_ceff_vals_3 = eval_ceff_range(2*np.pi/3, 3, 'SE(2) order 10')"
   ]
  },
  {
   "cell_type": "code",
   "execution_count": 4,
   "metadata": {
    "collapsed": true,
    "jupyter": {
     "outputs_hidden": true
    }
   },
   "outputs": [
    {
     "name": "stdout",
     "output_type": "stream",
     "text": [
      "0.001\n",
      "0.003593813663804626\n",
      "0.01291549665014884\n",
      "0.046415888336127795\n",
      "0.1668100537200059\n",
      "0.5994842503189409\n",
      "2.1544346900318843\n",
      "7.742636826811277\n",
      "27.825594022071257\n",
      "100.0\n"
     ]
    }
   ],
   "source": [
    "se2_ceff_vals_4 = eval_ceff_range(np.pi/2, 4, 'SE(2) order 10')"
   ]
  },
  {
   "cell_type": "code",
   "execution_count": 5,
   "metadata": {
    "collapsed": true,
    "jupyter": {
     "outputs_hidden": true
    }
   },
   "outputs": [
    {
     "name": "stdout",
     "output_type": "stream",
     "text": [
      "0.001\n",
      "0.003593813663804626\n",
      "0.01291549665014884\n",
      "0.046415888336127795\n",
      "0.1668100537200059\n",
      "0.5994842503189409\n",
      "2.1544346900318843\n",
      "7.742636826811277\n",
      "27.825594022071257\n",
      "100.0\n"
     ]
    }
   ],
   "source": [
    "se2_ceff_vals_4_0 = eval_ceff_range(0, 4, 'SE(2) order 10')"
   ]
  },
  {
   "cell_type": "code",
   "execution_count": 6,
   "metadata": {
    "collapsed": true,
    "jupyter": {
     "outputs_hidden": true
    }
   },
   "outputs": [
    {
     "name": "stdout",
     "output_type": "stream",
     "text": [
      "0.001\n",
      "0.003593813663804626\n",
      "0.01291549665014884\n",
      "0.046415888336127795\n",
      "0.1668100537200059\n",
      "0.5994842503189409\n",
      "2.1544346900318843\n",
      "7.742636826811277\n",
      "27.825594022071257\n",
      "100.0\n"
     ]
    }
   ],
   "source": [
    "se2_ceff_vals_7 = eval_ceff_range(2*np.pi/7, 7, 'SE(2) order 10')"
   ]
  },
  {
   "cell_type": "code",
   "execution_count": 7,
   "metadata": {
    "collapsed": true,
    "jupyter": {
     "outputs_hidden": true
    }
   },
   "outputs": [
    {
     "name": "stdout",
     "output_type": "stream",
     "text": [
      "0.001\n",
      "0.003593813663804626\n",
      "0.01291549665014884\n",
      "0.046415888336127795\n",
      "0.1668100537200059\n",
      "0.5994842503189409\n",
      "2.1544346900318843\n",
      "7.742636826811277\n",
      "27.825594022071257\n",
      "100.0\n",
      "0.001\n",
      "0.003593813663804626\n",
      "0.01291549665014884\n",
      "0.046415888336127795\n",
      "0.1668100537200059\n",
      "0.5994842503189409\n",
      "2.1544346900318843\n",
      "7.742636826811277\n",
      "27.825594022071257\n",
      "100.0\n",
      "0.001\n",
      "0.003593813663804626\n",
      "0.01291549665014884\n",
      "0.046415888336127795\n",
      "0.1668100537200059\n",
      "0.5994842503189409\n",
      "2.1544346900318843\n",
      "7.742636826811277\n",
      "27.825594022071257\n",
      "100.0\n"
     ]
    }
   ],
   "source": [
    "mining_minima_4 = eval_ceff_range(np.pi/2, 4, 'mining minima')\n",
    "mining_minima_4_0 = eval_ceff_range(0, 4, 'mining minima')\n",
    "mining_minima_7 = eval_ceff_range(2 * np.pi/7, 7, 'mining minima')"
   ]
  },
  {
   "cell_type": "code",
   "execution_count": 8,
   "metadata": {
    "collapsed": true,
    "jupyter": {
     "outputs_hidden": true
    }
   },
   "outputs": [
    {
     "name": "stdout",
     "output_type": "stream",
     "text": [
      "0.001\n",
      "0.003593813663804626\n",
      "0.01291549665014884\n",
      "0.046415888336127795\n",
      "0.1668100537200059\n",
      "0.5994842503189409\n",
      "2.1544346900318843\n",
      "7.742636826811277\n",
      "27.825594022071257\n",
      "100.0\n",
      "0.001\n",
      "0.003593813663804626\n",
      "0.01291549665014884\n",
      "0.046415888336127795\n",
      "0.1668100537200059\n",
      "0.5994842503189409\n",
      "2.1544346900318843\n",
      "7.742636826811277\n",
      "27.825594022071257\n",
      "100.0\n",
      "0.001\n",
      "0.003593813663804626\n",
      "0.01291549665014884\n",
      "0.046415888336127795\n",
      "0.1668100537200059\n",
      "0.5994842503189409\n",
      "2.1544346900318843\n",
      "7.742636826811277\n",
      "27.825594022071257\n",
      "100.0\n",
      "0.001\n",
      "0.003593813663804626\n",
      "0.01291549665014884\n",
      "0.046415888336127795\n",
      "0.1668100537200059\n",
      "0.5994842503189409\n",
      "2.1544346900318843\n",
      "7.742636826811277\n",
      "27.825594022071257\n",
      "100.0\n",
      "0.001\n",
      "0.003593813663804626\n",
      "0.01291549665014884\n",
      "0.046415888336127795\n",
      "0.1668100537200059\n",
      "0.5994842503189409\n",
      "2.1544346900318843\n",
      "7.742636826811277\n",
      "27.825594022071257\n",
      "100.0\n",
      "0.001\n",
      "0.003593813663804626\n",
      "0.01291549665014884\n",
      "0.046415888336127795\n",
      "0.1668100537200059\n",
      "0.5994842503189409\n",
      "2.1544346900318843\n",
      "7.742636826811277\n",
      "27.825594022071257\n",
      "100.0\n"
     ]
    }
   ],
   "source": [
    "gaussian_ceff_3 = eval_ceff_range(2 * np.pi/3, 3, 'gaussian')\n",
    "gaussian_ceff_4 = eval_ceff_range(np.pi/2, 4, 'gaussian')\n",
    "gaussian_ceff_7 = eval_ceff_range(2 * np.pi/7, 7, 'gaussian')\n",
    "\n",
    "grid1_ceff_3 = eval_ceff_range(2 * np.pi/3, 3, 'grid1')\n",
    "grid1_ceff_4 = eval_ceff_range(np.pi/2, 4, 'grid1')\n",
    "grid2_ceff_4 = eval_ceff_range(np.pi/2, 4, 'grid2')"
   ]
  },
  {
   "cell_type": "code",
   "execution_count": 9,
   "metadata": {
    "collapsed": true,
    "jupyter": {
     "outputs_hidden": true
    }
   },
   "outputs": [
    {
     "name": "stdout",
     "output_type": "stream",
     "text": [
      "0.001\n",
      "0.003593813663804626\n",
      "0.01291549665014884\n",
      "0.046415888336127795\n",
      "0.1668100537200059\n",
      "0.5994842503189409\n",
      "2.1544346900318843\n",
      "7.742636826811277\n",
      "27.825594022071257\n",
      "100.0\n",
      "0.001\n",
      "0.003593813663804626\n",
      "0.01291549665014884\n",
      "0.046415888336127795\n",
      "0.1668100537200059\n",
      "0.5994842503189409\n",
      "2.1544346900318843\n",
      "7.742636826811277\n",
      "27.825594022071257\n",
      "100.0\n",
      "0.001\n",
      "0.003593813663804626\n",
      "0.01291549665014884\n",
      "0.046415888336127795\n",
      "0.1668100537200059\n",
      "0.5994842503189409\n",
      "2.1544346900318843\n",
      "7.742636826811277\n",
      "27.825594022071257\n",
      "100.0\n",
      "0.001\n"
     ]
    },
    {
     "name": "stderr",
     "output_type": "stream",
     "text": [
      "/usr/local/lib/python3.7/site-packages/numpy/lib/histograms.py:1020: RuntimeWarning: invalid value encountered in true_divide\n",
      "  hist /= s\n"
     ]
    },
    {
     "name": "stdout",
     "output_type": "stream",
     "text": [
      "0.003593813663804626\n",
      "0.01291549665014884\n",
      "0.046415888336127795\n",
      "0.1668100537200059\n",
      "0.5994842503189409\n",
      "2.1544346900318843\n",
      "7.742636826811277\n",
      "27.825594022071257\n",
      "100.0\n",
      "0.001\n",
      "0.003593813663804626\n",
      "0.01291549665014884\n",
      "0.046415888336127795\n",
      "0.1668100537200059\n",
      "0.5994842503189409\n",
      "2.1544346900318843\n",
      "7.742636826811277\n",
      "27.825594022071257\n",
      "100.0\n",
      "0.001\n",
      "0.003593813663804626\n",
      "0.01291549665014884\n",
      "0.046415888336127795\n",
      "0.1668100537200059\n",
      "0.5994842503189409\n",
      "2.1544346900318843\n",
      "7.742636826811277\n",
      "27.825594022071257\n",
      "100.0\n",
      "0.001\n",
      "0.003593813663804626\n",
      "0.01291549665014884\n",
      "0.046415888336127795\n",
      "0.1668100537200059\n",
      "0.5994842503189409\n",
      "2.1544346900318843\n",
      "7.742636826811277\n",
      "27.825594022071257\n",
      "100.0\n",
      "0.001\n",
      "0.003593813663804626\n",
      "0.01291549665014884\n",
      "0.046415888336127795\n",
      "0.1668100537200059\n",
      "0.5994842503189409\n",
      "2.1544346900318843\n",
      "7.742636826811277\n",
      "27.825594022071257\n",
      "100.0\n",
      "0.001\n",
      "0.003593813663804626\n",
      "0.01291549665014884\n",
      "0.046415888336127795\n",
      "0.1668100537200059\n",
      "0.5994842503189409\n",
      "2.1544346900318843\n",
      "7.742636826811277\n",
      "27.825594022071257\n",
      "100.0\n",
      "0.001\n",
      "0.003593813663804626\n",
      "0.01291549665014884\n",
      "0.046415888336127795\n",
      "0.1668100537200059\n",
      "0.5994842503189409\n",
      "2.1544346900318843\n",
      "7.742636826811277\n",
      "27.825594022071257\n",
      "100.0\n",
      "0.001\n",
      "0.003593813663804626\n",
      "0.01291549665014884\n",
      "0.046415888336127795\n",
      "0.1668100537200059\n",
      "0.5994842503189409\n",
      "2.1544346900318843\n",
      "7.742636826811277\n",
      "27.825594022071257\n",
      "100.0\n",
      "0.001\n",
      "0.003593813663804626\n",
      "0.01291549665014884\n",
      "0.046415888336127795\n",
      "0.1668100537200059\n",
      "0.5994842503189409\n",
      "2.1544346900318843\n",
      "7.742636826811277\n",
      "27.825594022071257\n",
      "100.0\n",
      "0.001\n",
      "0.003593813663804626\n",
      "0.01291549665014884\n",
      "0.046415888336127795\n",
      "0.1668100537200059\n",
      "0.5994842503189409\n",
      "2.1544346900318843\n",
      "7.742636826811277\n",
      "27.825594022071257\n",
      "100.0\n"
     ]
    }
   ],
   "source": [
    "grid1_ceff_kde_3 = eval_ceff_range(2 * np.pi/3, 3, 'grid1 kde')\n",
    "grid1_ceff_kde_4 = eval_ceff_range(np.pi/2, 4, 'grid1 kde')\n",
    "grid2_ceff_kde_4 = eval_ceff_range(np.pi/2, 4, 'grid2 kde')\n",
    "\n",
    "grid1_ceff_4_0 = eval_ceff_range(0, 4, 'grid1')\n",
    "grid2_ceff_4_0 = eval_ceff_range(0, 4, 'grid2')\n",
    "grid1_ceff_kde_4_0 = eval_ceff_range(0, 4, 'grid1 kde')\n",
    "grid2_ceff_kde_4_0 = eval_ceff_range(0, 4, 'grid2 kde')\n",
    "\n",
    "grid1_ceff_7 = eval_ceff_range(2 * np.pi/7, 7, 'grid1')\n",
    "grid2_ceff_7 = eval_ceff_range(2 * np.pi/7, 7, 'grid2')\n",
    "grid1_ceff_kde_7 = eval_ceff_range(2 * np.pi/7, 7, 'grid1 kde')\n",
    "grid2_ceff_kde_7 = eval_ceff_range(2 * np.pi/7, 7, 'grid2 kde')\n",
    "\n",
    "lastlink1_3 = eval_ceff_range(2 * np.pi/3, 3, 'Last Link 1')\n",
    "lastlink1_7 = eval_ceff_range(2 * np.pi/7, 7, 'Last Link 1')"
   ]
  },
  {
   "cell_type": "code",
   "execution_count": 10,
   "metadata": {},
   "outputs": [
    {
     "name": "stdout",
     "output_type": "stream",
     "text": [
      "0.001\n",
      "0.003593813663804626\n",
      "0.01291549665014884\n",
      "0.046415888336127795\n",
      "0.1668100537200059\n",
      "0.5994842503189409\n",
      "2.1544346900318843\n",
      "7.742636826811277\n",
      "27.825594022071257\n",
      "100.0\n",
      "0.001\n",
      "0.003593813663804626\n",
      "0.01291549665014884\n",
      "0.046415888336127795\n",
      "0.1668100537200059\n",
      "0.5994842503189409\n",
      "2.1544346900318843\n",
      "7.742636826811277\n",
      "27.825594022071257\n",
      "100.0\n"
     ]
    }
   ],
   "source": [
    "lastlink1_4 = eval_ceff_range(2 * np.pi/4, 4, 'Last Link 1')\n",
    "lastlink1_4_0 = eval_ceff_range(0, 4, 'Last Link 1')"
   ]
  },
  {
   "cell_type": "code",
   "execution_count": 11,
   "metadata": {},
   "outputs": [
    {
     "name": "stdout",
     "output_type": "stream",
     "text": [
      "0.001\n",
      "0.003593813663804626\n",
      "0.01291549665014884\n",
      "0.046415888336127795\n",
      "0.1668100537200059\n",
      "0.5994842503189409\n",
      "2.1544346900318843\n",
      "7.742636826811277\n",
      "27.825594022071257\n",
      "100.0\n",
      "0.001\n",
      "0.003593813663804626\n",
      "0.01291549665014884\n",
      "0.046415888336127795\n",
      "0.1668100537200059\n",
      "0.5994842503189409\n",
      "2.1544346900318843\n",
      "7.742636826811277\n",
      "27.825594022071257\n",
      "100.0\n",
      "0.001\n",
      "0.003593813663804626\n",
      "0.01291549665014884\n",
      "0.046415888336127795\n"
     ]
    },
    {
     "name": "stderr",
     "output_type": "stream",
     "text": [
      "/Users/ramyar/Dropbox/GradSchool/Research/toyfold/numerical_ceff/utils.py:57: RuntimeWarning: invalid value encountered in sqrt\n",
      "  sum1 = np.sqrt(-(b**2 * sum1))\n"
     ]
    },
    {
     "name": "stdout",
     "output_type": "stream",
     "text": [
      "0.1668100537200059\n",
      "0.5994842503189409\n",
      "2.1544346900318843\n",
      "7.742636826811277\n",
      "27.825594022071257\n",
      "100.0\n"
     ]
    }
   ],
   "source": [
    "lastlink2_4 = eval_ceff_range(np.pi/2, 4, 'Last Link 2')\n",
    "lastlink2_4_0 = eval_ceff_range(0, 4, 'Last Link 2')\n",
    "lastlink2_7 = eval_ceff_range(2*np.pi/7, 7, 'Last Link 2')"
   ]
  },
  {
   "cell_type": "markdown",
   "metadata": {},
   "source": [
    "## Ceff graphs"
   ]
  },
  {
   "cell_type": "code",
   "execution_count": 12,
   "metadata": {},
   "outputs": [
    {
     "data": {
      "image/png": "[encoded data removed]",
      "text/plain": [
       "<Figure size 1080x720 with 1 Axes>"
      ]
     },
     "metadata": {
      "needs_background": "light"
     },
     "output_type": "display_data"
    }
   ],
   "source": [
    "# Three links\n",
    "ceff_lists_3 = [numerical_ceff_vals_3, analytical_inf_vals_3, analytical_vals_3, se2_ceff_vals_3, \\\n",
    "                gaussian_ceff_4, grid1_ceff_4, grid1_ceff_kde_4, lastlink1_4]\n",
    "label_list_3 = ['naive', 'infsig', 'analytical', 'SE(2) order 10', 'gaussian',\\\n",
    "                'grid1', 'grid1 kde', 'Last Link 1']\n",
    "plot_ceffs(ceff_lists_3, label_list_3, fig_size=(15, 10))"
   ]
  },
  {
   "cell_type": "code",
   "execution_count": 13,
   "metadata": {},
   "outputs": [
    {
     "data": {
      "image/png": "[encoded data removed]",
      "text/plain": [
       "<Figure size 1080x720 with 1 Axes>"
      ]
     },
     "metadata": {
      "needs_background": "light"
     },
     "output_type": "display_data"
    }
   ],
   "source": [
    "# Four links\n",
    "ceff_lists_4 = [numerical_ceff_vals_4, analytical_inf_vals_4, analytical_vals_4, se2_ceff_vals_4, \\\n",
    "                mining_minima_4, gaussian_ceff_4, grid1_ceff_4, grid1_ceff_kde_4, grid2_ceff_4, \\\n",
    "                grid2_ceff_kde_4, lastlink1_4, lastlink2_4]\n",
    "label_list_4 = ['naive', 'infsig', 'analytical', 'SE(2) order 10', 'mining minima', 'gaussian',\\\n",
    "                'grid1', 'grid1 kde', 'grid2', 'grid2 kde', 'Last Link 1', 'Last Link 2']\n",
    "plot_ceffs(ceff_lists_4, label_list_4, fig_size=(15, 10))"
   ]
  },
  {
   "cell_type": "code",
   "execution_count": 14,
   "metadata": {},
   "outputs": [
    {
     "data": {
      "image/png": "[encoded data removed]",
      "text/plain": [
       "<Figure size 1080x720 with 1 Axes>"
      ]
     },
     "metadata": {
      "needs_background": "light"
     },
     "output_type": "display_data"
    }
   ],
   "source": [
    "# Seven links\n",
    "ceff_lists_7 = [numerical_ceff_vals_7, analytical_inf_vals_7, se2_ceff_vals_7, \\\n",
    "                mining_minima_7, gaussian_ceff_7, grid1_ceff_7, grid1_ceff_kde_7, grid2_ceff_7, \\\n",
    "                grid2_ceff_kde_7, lastlink1_7, lastlink2_7] # left out analytical_vals_7 due to compute\n",
    "label_list_7 = ['naive', 'infsig', 'SE(2) order 10', 'mining minima', 'gaussian', \\\n",
    "                'grid1', 'grid1 kde', 'grid2', 'grid2 kde', 'Last Link 1', 'Last Link 2']\n",
    "plot_ceffs(ceff_lists_7, label_list_7, fig_size=(15, 10))"
   ]
  },
  {
   "cell_type": "code",
   "execution_count": 15,
   "metadata": {},
   "outputs": [
    {
     "name": "stderr",
     "output_type": "stream",
     "text": [
      "/Users/ramyar/Dropbox/GradSchool/Research/toyfold/numerical_ceff/plot.py:29: RuntimeWarning: invalid value encountered in less\n",
      "  ceff_list[ceff_list < 10**cutoff] = 0\n"
     ]
    },
    {
     "data": {
      "image/png": "[encoded data removed]",
      "text/plain": [
       "<Figure size 1080x720 with 1 Axes>"
      ]
     },
     "metadata": {
      "needs_background": "light"
     },
     "output_type": "display_data"
    }
   ],
   "source": [
    "# Four links with theta_0 = 0\n",
    "ceff_lists_4_0 = [numerical_ceff_vals_4_0, se2_ceff_vals_4_0, \\\n",
    "                mining_minima_4_0, grid1_ceff_4_0, grid1_ceff_kde_4_0, grid2_ceff_4_0, \\\n",
    "                grid2_ceff_kde_4_0, lastlink1_4_0, lastlink2_4_0]\n",
    "label_list_4_0 = ['naive', 'SE(2) order 10', 'mining minima', \\\n",
    "                'grid1', 'grid1 kde', 'grid2', 'grid2 kde', 'Last Link 1', 'Last Link 2']\n",
    "plot_ceffs(ceff_lists_4_0, label_list_4_0, fig_size=(15, 10), cutoff=-10)"
   ]
  }
 ],
 "metadata": {
  "kernelspec": {
   "display_name": "Python 3",
   "language": "python",
   "name": "python3"
  },
  "language_info": {
   "codemirror_mode": {
    "name": "ipython",
    "version": 3
   },
   "file_extension": ".py",
   "mimetype": "text/x-python",
   "name": "python",
   "nbconvert_exporter": "python",
   "pygments_lexer": "ipython3",
   "version": "3.7.1"
  }
 },
 "nbformat": 4,
 "nbformat_minor": 4
}
